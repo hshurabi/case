{
 "cells": [
  {
   "cell_type": "code",
   "execution_count": 1,
   "metadata": {},
   "outputs": [],
   "source": [
    "import numpy as np\n",
    "import pandas as pd\n",
    "from sklearn.ensemble import RandomForestClassifier, RandomForestRegressor"
   ]
  },
  {
   "cell_type": "code",
   "execution_count": 2,
   "metadata": {},
   "outputs": [],
   "source": [
    "import sys\n",
    "sys.path.append(\"..\")  # Go up one directory level to access the CASE package\n",
    "\n",
    "from CASE import CASE"
   ]
  },
  {
   "cell_type": "code",
   "execution_count": 3,
   "metadata": {},
   "outputs": [],
   "source": [
    "from sksurv.datasets import load_veterans_lung_cancer\n",
    "from sksurv.datasets import load_breast_cancer\n",
    "\n",
    "data_x, data_y = load_veterans_lung_cancer()"
   ]
  },
  {
   "cell_type": "code",
   "execution_count": 4,
   "metadata": {},
   "outputs": [],
   "source": [
    "from sklearn.preprocessing import OneHotEncoder\n",
    "enc = OneHotEncoder(handle_unknown='ignore')\n",
    "enc.fit(data_x.select_dtypes('category'))\n",
    "data_x_encoded = pd.concat([data_x.select_dtypes(exclude='category'), pd.DataFrame(enc.transform(data_x.select_dtypes('category')).toarray(),\n",
    "                              columns=enc.get_feature_names_out())],axis=1)\n"
   ]
  },
  {
   "cell_type": "code",
   "execution_count": 5,
   "metadata": {},
   "outputs": [],
   "source": [
    "# Set parameters for the CASE model\n",
    "study_period = 3\n",
    "period_type = 'year'\n",
    "\n",
    "# Create an instance of the CASE class\n",
    "case_model = CASE(\n",
    "    study_period=study_period, \n",
    "    period_type=period_type\n",
    ")"
   ]
  },
  {
   "cell_type": "code",
   "execution_count": 6,
   "metadata": {},
   "outputs": [],
   "source": [
    "data_x_tr = data_x_encoded[:100]\n",
    "data_y_tr = data_y[:100]\n",
    "data_x_test = data_x_encoded[100:]\n",
    "data_y_test = data_y[100:]"
   ]
  },
  {
   "cell_type": "code",
   "execution_count": 7,
   "metadata": {},
   "outputs": [],
   "source": [
    "x_case_tr,y_case_tr = case_model.transform(data_x_tr, data_y_tr)\n",
    "x_case_test,y_case_test = case_model.transform(data_x_test, data_y_test, is_test_data=True)"
   ]
  },
  {
   "cell_type": "code",
   "execution_count": 8,
   "metadata": {},
   "outputs": [
    {
     "data": {
      "text/plain": [
       "CASE(study_period=3)"
      ]
     },
     "execution_count": 8,
     "metadata": {},
     "output_type": "execute_result"
    }
   ],
   "source": [
    "case_model.fit_classifier(x_case_tr,y_case_tr, RandomForestClassifier())"
   ]
  },
  {
   "cell_type": "code",
   "execution_count": 9,
   "metadata": {},
   "outputs": [],
   "source": [
    "pred_scores_tr = case_model.fitted_classifier.predict_proba(x_case_tr)[:,1]\n",
    "survivals_tr_censored = case_model.inverse_transform(pred_scores_tr, is_test_data=False)\n",
    "survivals_tr = case_model.predict_survival_function_for_censored_training_data(data_x_tr,survivals_tr_censored)"
   ]
  },
  {
   "cell_type": "code",
   "execution_count": 10,
   "metadata": {},
   "outputs": [],
   "source": [
    "pred_scores_test = case_model.fitted_classifier.predict_proba(x_case_test)[:,1]\n",
    "survivals_test = case_model.inverse_transform(pred_scores_test, is_test_data=True)"
   ]
  },
  {
   "cell_type": "code",
   "execution_count": 11,
   "metadata": {},
   "outputs": [],
   "source": [
    "case_reg_data, case_reg_y = case_model.construct_case_regression_data(data_x_tr,survivals_tr,y = data_y_tr)\n",
    "case_reg_data_test = case_model.construct_case_regression_data(data_x_test,survivals_test)"
   ]
  },
  {
   "cell_type": "code",
   "execution_count": 12,
   "metadata": {},
   "outputs": [
    {
     "data": {
      "text/plain": [
       "CASE(study_period=3)"
      ]
     },
     "execution_count": 12,
     "metadata": {},
     "output_type": "execute_result"
    }
   ],
   "source": [
    "case_model.fit_regression(case_reg_data, case_reg_y, RandomForestRegressor())"
   ]
  },
  {
   "cell_type": "code",
   "execution_count": 13,
   "metadata": {},
   "outputs": [],
   "source": [
    "y_pred_tr = case_model.fitted_regressor.predict(case_reg_data)"
   ]
  },
  {
   "cell_type": "code",
   "execution_count": 14,
   "metadata": {},
   "outputs": [
    {
     "data": {
      "image/png": "[encoded data removed]",
      "text/plain": [
       "<Figure size 640x480 with 1 Axes>"
      ]
     },
     "metadata": {},
     "output_type": "display_data"
    }
   ],
   "source": [
    "import matplotlib.pyplot as plt\n",
    "plt.scatter(y_pred_tr,case_reg_y, label='Data points')\n",
    "\n",
    "# Add a 45-degree line\n",
    "min_val = min(min(y_pred_tr), min(case_reg_y))\n",
    "max_val = max(max(y_pred_tr), max(case_reg_y))\n",
    "plt.plot([min_val, max_val], [min_val, max_val], color='red', linestyle='--', label='Perfect model')\n",
    "\n",
    "plt.xlabel('predicted survival time')\n",
    "plt.ylabel('actual survival time')\n",
    "plt.show()"
   ]
  },
  {
   "cell_type": "code",
   "execution_count": 16,
   "metadata": {},
   "outputs": [
    {
     "name": "stdout",
     "output_type": "stream",
     "text": [
      "iAUSC score for record 1 is: 0.30287969714472796\n"
     ]
    }
   ],
   "source": [
    "# Calculate iAUSC score for record 1\n",
    "from CASE.utils import i_ausc, m_ausc, TSKFold\n",
    "score = i_ausc(survivals_tr[1],\n",
    "               periods = np.arange(0,case_model.study_period+1),\n",
    "               event_time = data_y_tr['Survival_in_days'][1])\n",
    "print(f\"iAUSC score for record 1 is: {score}\")\n"
   ]
  },
  {
   "cell_type": "code",
   "execution_count": 18,
   "metadata": {},
   "outputs": [
    {
     "name": "stdout",
     "output_type": "stream",
     "text": [
      "mAUSC score for the model is: 0.17808056634486433\n"
     ]
    }
   ],
   "source": [
    "mausc_score = m_ausc(survivals_tr, data_y_tr, np.arange(0,4))\n",
    "print(f\"mAUSC score for the model is: {mausc_score}\")"
   ]
  },
  {
   "cell_type": "code",
   "execution_count": null,
   "metadata": {},
   "outputs": [],
   "source": []
  },
  {
   "cell_type": "code",
   "execution_count": 46,
   "metadata": {},
   "outputs": [],
   "source": []
  },
  {
   "cell_type": "code",
   "execution_count": null,
   "metadata": {},
   "outputs": [],
   "source": []
  },
  {
   "cell_type": "code",
   "execution_count": 43,
   "metadata": {},
   "outputs": [],
   "source": []
  },
  {
   "cell_type": "code",
   "execution_count": 36,
   "metadata": {},
   "outputs": [],
   "source": []
  },
  {
   "cell_type": "code",
   "execution_count": 34,
   "metadata": {},
   "outputs": [
    {
     "data": {
      "text/plain": [
       "1.126027397260274"
      ]
     },
     "execution_count": 34,
     "metadata": {},
     "output_type": "execute_result"
    }
   ],
   "source": []
  },
  {
   "cell_type": "code",
   "execution_count": 39,
   "metadata": {},
   "outputs": [
    {
     "data": {
      "text/plain": [
       "array([1, 2, 3])"
      ]
     },
     "execution_count": 39,
     "metadata": {},
     "output_type": "execute_result"
    }
   ],
   "source": [
    "np.arange(1,case_model.study_period+1)"
   ]
  },
  {
   "cell_type": "code",
   "execution_count": 44,
   "metadata": {},
   "outputs": [
    {
     "data": {
      "text/plain": [
       "0.27981862626503734"
      ]
     },
     "execution_count": 44,
     "metadata": {},
     "output_type": "execute_result"
    }
   ],
   "source": []
  },
  {
   "cell_type": "code",
   "execution_count": null,
   "metadata": {},
   "outputs": [],
   "source": [
    "\n",
    "\n",
    "def survival_function_score(surv_probs,surv_preiod,event_time,P, version=1):\n",
    "    \"\"\"\n",
    "    Calculate the ideal score for a survival curve.\n",
    "    \n",
    "    Parameters:\n",
    "    - times: Array-like, representing the time points.\n",
    "    - events: Array-like, representing the event indicators (1 for event, 0 for censored).\n",
    "    \n",
    "    Returns:\n",
    "    - score: The ideal score for the survival curve.\n",
    "    \"\"\"\n",
    "    # Get surv function \n",
    "\n",
    "    # Find the time of event\n",
    "    # event_time = \n",
    "    \n",
    "    # Until survival mask\n",
    "    # mask = < event_time\n",
    "    if version != 's-score':\n",
    "        mask = surv_preiod <= event_time\n",
    "    \n",
    "        # Calculate the area under the survival curve until time of event\n",
    "        area_until_event = np.sum(surv_probs[mask])/(np.sum(surv_preiod[mask]))\n",
    "        \n",
    "        # Calculate the area under the survival curve after time of event\n",
    "        area_after_event = np.sum(1-surv_probs[~mask])/(np.sum(surv_preiod[~mask]))\n",
    "\n",
    "        # Calculate weighted AUSC\n",
    "        weighted_area_until_event =  np.sum(np.array(surv_probs[mask])*np.array(surv_preiod[mask]))\n",
    "\n",
    "        # weighted_area_after_event\n",
    "        weighted_area_after_event =  np.sum(np.array(1-surv_probs[~mask])*np.array(surv_preiod[~mask]))\n",
    "\n",
    "\n",
    "    \n",
    "    if version ==8:\n",
    "        \n",
    "\n",
    "    elif version ==\"s-score\":\n",
    "        score = (np.sum(np.array(surv_probs)*np.exp(-event_time/P)) )/weighted_denom\n",
    "    return score"
   ]
  },
  {
   "cell_type": "code",
   "execution_count": null,
   "metadata": {},
   "outputs": [],
   "source": []
  }
 ],
 "metadata": {
  "kernelspec": {
   "display_name": "hlcare",
   "language": "python",
   "name": "python3"
  },
  "language_info": {
   "codemirror_mode": {
    "name": "ipython",
    "version": 3
   },
   "file_extension": ".py",
   "mimetype": "text/x-python",
   "name": "python",
   "nbconvert_exporter": "python",
   "pygments_lexer": "ipython3",
   "version": "3.9.7"
  }
 },
 "nbformat": 4,
 "nbformat_minor": 2
}
